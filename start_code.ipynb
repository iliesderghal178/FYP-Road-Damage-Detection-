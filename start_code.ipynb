{
  "nbformat": 4,
  "nbformat_minor": 0,
  "metadata": {
    "colab": {
      "name": "partial code.ipynb",
      "provenance": [],
      "collapsed_sections": []
    },
    "kernelspec": {
      "name": "python3",
      "display_name": "Python 3"
    }
  },
  "cells": [
    {
      "metadata": {
        "id": "DPCIBEFnMwhm"
      },
      "cell_type": "code",
      "source": [
        "#Omani"
      ],
      "execution_count": null,
      "outputs": []
    },
    {
      "metadata": {
        "id": "krJ11vibOalj"
      },
      "cell_type": "code",
      "source": [
        "# Load the Drive helper and mount\n",
        "from google.colab import drive\n",
        "\n",
        "# This will prompt for authorization.\n",
        "drive.mount('/content/drive')"
      ],
      "execution_count": null,
      "outputs": []
    },
    {
      "metadata": {
        "id": "sfcxaQ3TOf-6"
      },
      "cell_type": "code",
      "source": [
        "cd /content/drive/My Drive/FYP/models/research"
      ],
      "execution_count": null,
      "outputs": []
    },
    {
      "metadata": {
        "id": "uoXcq8OJOi6T"
      },
      "cell_type": "code",
      "source": [
        "!python setup.py install"
      ],
      "execution_count": null,
      "outputs": []
    },
    {
      "metadata": {
        "id": "6gEH3BIROneI"
      },
      "cell_type": "markdown",
      "source": [
        "# #Install required packages"
      ]
    },
    {
      "metadata": {
        "id": "eZfRyHL8OjrH"
      },
      "cell_type": "code",
      "source": [
        "#!git clone https://github.com/tensorflow/models.git\n",
        "\n",
        "!apt-get install -qq protobuf-compiler python-tk\n",
        "\n",
        "!pip install -q Cython contextlib2 pillow lxml matplotlib PyDrive\n",
        "!pip install pydrive\n",
        "\n",
        "!pip install -q pycocotools\n",
        "\n",
        "!protoc object_detection/protos/*.proto --python_out=.\n",
        "import os\n",
        "os.environ['PYTHONPATH'] += ':/content/drive/My Drive/FYP/models/research/:/content/drive/My Drive/FYP/models/research/slim/'\n",
        "\n",
        "!python object_detection/builders/model_builder_test.py"
      ],
      "execution_count": null,
      "outputs": []
    },
    {
      "metadata": {
        "id": "IS_gM13nOvLL"
      },
      "cell_type": "code",
      "source": [
        "cd /content/drive/My Drive/FYP/datalab/data/newdataset/annotations"
      ],
      "execution_count": null,
      "outputs": []
    },
    {
      "metadata": {
        "id": "ZraT2BvLPPeV"
      },
      "cell_type": "markdown",
      "source": [
        "# Convert images into .txt files"
      ]
    },
    {
      "metadata": {
        "id": "vzn4jDKCPa5Z"
      },
      "cell_type": "code",
      "source": [
        "#%cd ~/datalab\n",
        "image_files=os.listdir('images')\n",
        "im_files=[x.split('.')[0] for x in image_files]\n",
        "with open('annotations/trainval.txt', 'w') as text_file:\n",
        "  for row in im_files:\n",
        "    text_file.write(row + '\\n')"
      ],
      "execution_count": null,
      "outputs": []
    },
    {
      "metadata": {
        "id": "KLBZHjjzPhHp"
      },
      "cell_type": "markdown",
      "source": [
        "# Empty png files\n",
        "\n",
        "Create empty png mask files to avoid error in create_pet_tf_record.py, they are not used in training model"
      ]
    },
    {
      "metadata": {
        "id": "r_NRSXfbPgWF"
      },
      "cell_type": "code",
      "source": [
        "#%cd ~/datalab/annotations\n",
        "\n",
        "!mkdir trimaps\n",
        "\n",
        "from PIL import Image\n",
        "image = Image.new('RGB', (600, 600))\n",
        "\n",
        "for filename in os.listdir('xmls'):\n",
        "  filename = os.path.splitext(filename)[0]\n",
        "  image.save('trimaps/' + filename + '.png')"
      ],
      "execution_count": null,
      "outputs": []
    },
    {
      "metadata": {
        "id": "me49VtpkPqB4"
      },
      "cell_type": "markdown",
      "source": [
        "# Create TFRecord"
      ]
    },
    {
      "metadata": {
        "id": "NyWpgkWcPvfz"
      },
      "cell_type": "code",
      "source": [
        "!python object_detection/dataset_tools/create_pet_tf_record.py --label_map_path=data/crack_label_map.pbtxt --data_dir=data/mydata/ --output_dir=. --num_shards=1"
      ],
      "execution_count": null,
      "outputs": []
    },
    {
      "metadata": {
        "id": "yqt2CWiKPuK7"
      },
      "cell_type": "markdown",
      "source": [
        "# Download pretrained model\n",
        "\n",
        "Cell downloads faster_rcnn_inception_v2_coco model to use as starting checkpoint.\n",
        "\n",
        "To use another model from ModelZoo change MODEL var."
      ]
    },
    {
      "metadata": {
        "id": "exPvOEOeQZ90"
      },
      "cell_type": "code",
      "source": [
        "#%cd ~/datalab\n",
        "\n",
        "import os\n",
        "import shutil\n",
        "import glob\n",
        "import urllib\n",
        "import tarfile\n",
        "\n",
        "MODEL = 'ssd_mobilenet_v1_coco_11_06_2017'\n",
        "MODEL_FILE = MODEL + '.tar.gz'\n",
        "DOWNLOAD_BASE = 'http://download.tensorflow.org/models/object_detection/'\n",
        "DEST_DIR = 'pretrained_model'\n",
        "\n",
        "if not (os.path.exists(MODEL_FILE)):\n",
        "  opener = urllib.URLopener()\n",
        "  opener.retrieve(DOWNLOAD_BASE + MODEL_FILE, MODEL_FILE)\n",
        "\n",
        "tar = tarfile.open(MODEL_FILE)\n",
        "tar.extractall()\n",
        "tar.close()\n",
        "\n",
        "os.remove(MODEL_FILE)\n",
        "if (os.path.exists(DEST_DIR)):\n",
        "  shutil.rmtree(DEST_DIR)\n",
        "os.rename(MODEL, DEST_DIR)"
      ],
      "execution_count": null,
      "outputs": []
    },
    {
      "metadata": {
        "id": "wLszUFzRQgNi"
      },
      "cell_type": "markdown",
      "source": [
        "# Convert to .record file"
      ]
    },
    {
      "metadata": {
        "id": "-wvbowj4QnNq"
      },
      "cell_type": "code",
      "source": [
        "#cd /content/mydrive/My Drive/FYP/datalab\n",
        "\n",
        "!mv pet_faces_train.record-00000-of-00001 tf_train.record\n",
        "\n",
        "!mv pet_faces_val.record-00000-of-00001 tf_val.record"
      ],
      "execution_count": null,
      "outputs": []
    },
    {
      "metadata": {
        "id": "b2-RIUHtQqdu"
      },
      "cell_type": "code",
      "source": [
        " cd /content/drive/My Drive/FYP/datalab/AllData"
      ],
      "execution_count": null,
      "outputs": []
    },
    {
      "metadata": {
        "id": "NiXDsvsJQ5cx"
      },
      "cell_type": "markdown",
      "source": [
        "# Train model\n",
        "\n",
        "Set num_train_steps and num_eval_steps values to change train and eval steps in training process."
      ]
    },
    {
      "metadata": {
        "id": "gMHQy83zQ8Q0"
      },
      "cell_type": "code",
      "source": [
        "!python object_detection/legacy/train.py \\\n",
        "        --logtostderr \\\n",
        "        --train_dir=. \\\n",
        "        --pipeline_config_path=object_detection/samples/configs/ssd_mobilenet_v1_pets.config"
      ],
      "execution_count": null,
      "outputs": []
    },
    {
      "metadata": {
        "id": "c5kQaiB6ROkK"
      },
      "cell_type": "markdown",
      "source": [
        "# Export trained model\n",
        "\n",
        "Export trained model with highest step number in filename."
      ]
    },
    {
      "metadata": {
        "id": "YqfyoMQERQlS"
      },
      "cell_type": "code",
      "source": [
        "cd /content/drive/My Drive/FYP/models/research/Assad_SSD"
      ],
      "execution_count": null,
      "outputs": []
    },
    {
      "metadata": {
        "id": "nSq9c6hwRWhv"
      },
      "cell_type": "code",
      "source": [
        "lst = !ls\n",
        "lf = filter(lambda k: 'model.ckpt-' in k, lst)\n",
        "print(lf)\n",
        "last_model = sorted(lf)[-1].replace('.meta', '')\n",
        "print(last_model)"
      ],
      "execution_count": null,
      "outputs": []
    },
    {
      "metadata": {
        "id": "Yy_jXpB9ReR-"
      },
      "cell_type": "code",
      "source": [
        "cd /content/drive/My Drive/FYP/models/research/object_detection"
      ],
      "execution_count": null,
      "outputs": []
    },
    {
      "metadata": {
        "id": "CNi4U8_URfLI"
      },
      "cell_type": "code",
      "source": [
        "\n",
        "\n",
        "!python object_detection/export_inference_graph.py \\\n",
        "    --input_type=image_tensor \\\n",
        "    --pipeline_config_path=object_detection/samples/configs/ssd_mobilenet_v1_pets.config \\\n",
        "    --trained_checkpoint_prefix=Assad_SSD/model.ckpt-13458\\\n",
        "    --output_directory=frozen_Assad_SSD/ \\\n",
        "    "
      ],
      "execution_count": null,
      "outputs": []
    },
    {
      "metadata": {
        "id": "6vF97LSURsUj"
      },
      "cell_type": "markdown",
      "source": [
        "# Run inference"
      ]
    },
    {
      "metadata": {
        "id": "fYZ6u3V9R1PJ"
      },
      "cell_type": "code",
      "source": [
        "#%cd ~/models/research/object_detection\n",
        "\n",
        "\n",
        "\n",
        "\n",
        "import numpy as np\n",
        "import os\n",
        "import six.moves.urllib as urllib\n",
        "import sys\n",
        "import tarfile\n",
        "import tensorflow as tf\n",
        "import zipfile\n",
        "\n",
        "from collections import defaultdict\n",
        "from io import StringIO\n",
        "from matplotlib import pyplot as plt\n",
        "from PIL import Image\n",
        "\n",
        "# This is needed since the notebook is stored in the object_detection folder.\n",
        "sys.path.append(\"..\")\n",
        "from object_detection.utils import ops as utils_ops\n",
        "\n",
        "#if tf.__version__ < '1.4.0':\n",
        "#  raise ImportError('Please upgrade your tensorflow installation to v1.4.* or later!')\n",
        "  \n",
        "\n",
        "  \n",
        "  \n",
        "# This is needed to display the images.\n",
        "%matplotlib inline\n",
        "\n",
        "\n",
        "\n",
        "\n",
        "from object_detection.utils import label_map_util\n",
        "\n",
        "from object_detection.utils import visualization_utils as vis_util\n",
        "\n",
        "\n",
        "\n",
        "\n",
        "\n",
        "# What model to download.\n",
        "# Path to frozen detection graph. This is the actual model that is used for the object detection.\n",
        "PATH_TO_CKPT = '/content/drive/My Drive/FYP/models/research/frozen_Assad_SSD' + '/frozen_inference_graph.pb'\n",
        "\n",
        "# List of the strings that is used to add correct label for each box.\n",
        "PATH_TO_LABELS = os.path.join('/content/drive/My Drive/FYP/datalab/data/', 'crack_label_map.pbtxt')\n",
        "\n",
        "NUM_CLASSES = 8\n",
        "\n",
        "\n",
        "\n",
        "\n",
        "detection_graph = tf.Graph()\n",
        "with detection_graph.as_default():\n",
        "  od_graph_def = tf.GraphDef()\n",
        "  with tf.gfile.GFile(PATH_TO_CKPT, 'rb') as fid:\n",
        "    serialized_graph = fid.read()\n",
        "    od_graph_def.ParseFromString(serialized_graph)\n",
        "    tf.import_graph_def(od_graph_def, name='')\n",
        "    \n",
        "    \n",
        "    \n",
        "    \n",
        "label_map = label_map_util.load_labelmap(PATH_TO_LABELS)\n",
        "categories = label_map_util.convert_label_map_to_categories(label_map, max_num_classes=NUM_CLASSES, use_display_name=True)\n",
        "category_index = label_map_util.create_category_index(categories)\n",
        "\n",
        "\n",
        "\n",
        "\n",
        "def load_image_into_numpy_array(image):\n",
        "  (im_width, im_height) = image.size\n",
        "  return np.array(image.getdata()).reshape(\n",
        "      (im_height, im_width, 3)).astype(np.uint8)\n",
        "\n",
        "\n",
        "\n",
        "\n",
        "# If you want to test the code with your images, just add path to the images to the TEST_IMAGE_PATHS.\n",
        "PATH_TO_TEST_IMAGES_DIR = '/content/drive/My Drive/FYP/testset/'\n",
        "TEST_IMAGE_PATHS = [ os.path.join(PATH_TO_TEST_IMAGES_DIR, 'image{}.jpg'.format(i)) for i in range(1, 8) ]\n",
        "\n",
        "# Size, in inches, of the output images.\n",
        "IMAGE_SIZE = (12, 8)\n",
        "\n",
        "\n",
        "\n",
        "\n",
        "def run_inference_for_single_image(image, graph):\n",
        "  with graph.as_default():\n",
        "    with tf.Session() as sess:\n",
        "      # Get handles to input and output tensors\n",
        "      ops = tf.get_default_graph().get_operations()\n",
        "      all_tensor_names = {output.name for op in ops for output in op.outputs}\n",
        "      tensor_dict = {}\n",
        "      for key in [\n",
        "          'num_detections', 'detection_boxes', 'detection_scores',\n",
        "          'detection_classes', 'detection_masks'\n",
        "      ]:\n",
        "        tensor_name = key + ':0'\n",
        "        if tensor_name in all_tensor_names:\n",
        "          tensor_dict[key] = tf.get_default_graph().get_tensor_by_name(\n",
        "              tensor_name)\n",
        "      if 'detection_masks' in tensor_dict:\n",
        "        # The following processing is only for single image\n",
        "        detection_boxes = tf.squeeze(tensor_dict['detection_boxes'], [0])\n",
        "        detection_masks = tf.squeeze(tensor_dict['detection_masks'], [0])\n",
        "        # Reframe is required to translate mask from box coordinates to image coordinates and fit the image size.\n",
        "        real_num_detection = tf.cast(tensor_dict['num_detections'][0], tf.int32)\n",
        "        detection_boxes = tf.slice(detection_boxes, [0, 0], [real_num_detection, -1])\n",
        "        detection_masks = tf.slice(detection_masks, [0, 0, 0], [real_num_detection, -1, -1])\n",
        "        detection_masks_reframed = utils_ops.reframe_box_masks_to_image_masks(\n",
        "            detection_masks, detection_boxes, image.shape[0], image.shape[1])\n",
        "        detection_masks_reframed = tf.cast(\n",
        "            tf.greater(detection_masks_reframed, 0.3), tf.uint8)\n",
        "        # Follow the convention by adding back the batch dimension\n",
        "        tensor_dict['detection_masks'] = tf.expand_dims(\n",
        "            detection_masks_reframed, 0)\n",
        "      image_tensor = tf.get_default_graph().get_tensor_by_name('image_tensor:0')\n",
        "\n",
        "      # Run inference\n",
        "      output_dict = sess.run(tensor_dict,\n",
        "                             feed_dict={image_tensor: np.expand_dims(image, 0)})\n",
        "\n",
        "      # all outputs are float32 numpy arrays, so convert types as appropriate\n",
        "      output_dict['num_detections'] = int(output_dict['num_detections'][0])\n",
        "      output_dict['detection_classes'] = output_dict[\n",
        "          'detection_classes'][0].astype(np.uint8)\n",
        "      output_dict['detection_boxes'] = output_dict['detection_boxes'][0]\n",
        "      output_dict['detection_scores'] = output_dict['detection_scores'][0]\n",
        "      if 'detection_masks' in output_dict:\n",
        "        output_dict['detection_masks'] = output_dict['detection_masks'][0]\n",
        "  return output_dict\n",
        "\n",
        "\n",
        "\n",
        "\n",
        "for image_path in TEST_IMAGE_PATHS:\n",
        "  image = Image.open(image_path)\n",
        "  # the array based representation of the image will be used later in order to prepare the\n",
        "  # result image with boxes and labels on it.\n",
        "  image_np = load_image_into_numpy_array(image)\n",
        "  # Expand dimensions since the model expects images to have shape: [1, None, None, 3]\n",
        "  image_np_expanded = np.expand_dims(image_np, axis=0)\n",
        "  # Actual detection.\n",
        "  output_dict = run_inference_for_single_image(image_np, detection_graph)\n",
        "  # Visualization of the results of a detection.\n",
        "  vis_util.visualize_boxes_and_labels_on_image_array(\n",
        "      image_np,\n",
        "      output_dict['detection_boxes'],\n",
        "      output_dict['detection_classes'],\n",
        "      output_dict['detection_scores'],\n",
        "      category_index,\n",
        "      instance_masks=output_dict.get('detection_masks'),\n",
        "      use_normalized_coordinates=True,\n",
        "      line_thickness=8)\n",
        "  plt.figure(figsize=IMAGE_SIZE)\n",
        "  plt.imshow(image_np)\n",
        "  "
      ],
      "execution_count": null,
      "outputs": []
    }
  ]
}